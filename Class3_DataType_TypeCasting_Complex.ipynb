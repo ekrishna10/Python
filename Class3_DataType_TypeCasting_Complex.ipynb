{
 "cells": [
  {
   "cell_type": "code",
   "execution_count": null,
   "id": "0ddf815b-345e-4852-8310-2f758ea2afed",
   "metadata": {},
   "outputs": [],
   "source": [
    "print(3 + 2)"
   ]
  },
  {
   "cell_type": "code",
   "execution_count": null,
   "id": "3f96a94a-e3c0-400b-b811-cffd7f4417e6",
   "metadata": {},
   "outputs": [],
   "source": [
    "print(3 - 2) "
   ]
  },
  {
   "cell_type": "code",
   "execution_count": null,
   "id": "89294e53-8946-4b1e-ae42-1e3755acf9e9",
   "metadata": {},
   "outputs": [],
   "source": [
    "print(3 * 2)"
   ]
  },
  {
   "cell_type": "code",
   "execution_count": null,
   "id": "6e41a3d2-8a84-46d6-8379-04ba7df69bdb",
   "metadata": {},
   "outputs": [],
   "source": [
    "print(3 / 2)"
   ]
  },
  {
   "cell_type": "code",
   "execution_count": null,
   "id": "f7042490-dbb1-465e-926b-85c74cd99473",
   "metadata": {},
   "outputs": [],
   "source": [
    "print(3 ** 2)"
   ]
  },
  {
   "cell_type": "code",
   "execution_count": null,
   "id": "66e5a715-9cb8-47b7-811e-0c6932622417",
   "metadata": {},
   "outputs": [],
   "source": [
    "print(3 % 2)"
   ]
  },
  {
   "cell_type": "code",
   "execution_count": null,
   "id": "6a233d25-868e-4e74-a25e-4e8368cb9188",
   "metadata": {},
   "outputs": [],
   "source": [
    "print(3 // 2)\n"
   ]
  },
  {
   "cell_type": "code",
   "execution_count": null,
   "id": "d69dde22-5424-4962-a6d6-04987c5173cd",
   "metadata": {},
   "outputs": [],
   "source": [
    "print(type(10))                  "
   ]
  },
  {
   "cell_type": "code",
   "execution_count": null,
   "id": "6b704047-9e94-4f86-98b7-cb51f0f4684f",
   "metadata": {},
   "outputs": [],
   "source": [
    "print(type(3.14))                "
   ]
  },
  {
   "cell_type": "code",
   "execution_count": null,
   "id": "6f26c6c4-8797-4373-9e2d-f7864c2c873a",
   "metadata": {},
   "outputs": [],
   "source": [
    "print(type(1 + 3j)) "
   ]
  },
  {
   "cell_type": "code",
   "execution_count": null,
   "id": "a8a23d44-4274-4950-b74b-638484830bb6",
   "metadata": {},
   "outputs": [],
   "source": [
    "print(type('prakashsenapati'))"
   ]
  },
  {
   "cell_type": "code",
   "execution_count": null,
   "id": "85544b36-6eb9-4c46-80e8-cdb5ec151c7b",
   "metadata": {},
   "outputs": [],
   "source": [
    "print(type([1, 2, 3]))"
   ]
  },
  {
   "cell_type": "code",
   "execution_count": null,
   "id": "9acb5514-4cd5-450e-ac2a-1e769e7e8c62",
   "metadata": {},
   "outputs": [],
   "source": [
    "print(type({'name':'senapati'}))"
   ]
  },
  {
   "cell_type": "code",
   "execution_count": null,
   "id": "15bfe2ff-851c-4366-8a23-fa475ee23daa",
   "metadata": {},
   "outputs": [],
   "source": [
    "print(type({9.8, 3.14, 2.7}))"
   ]
  },
  {
   "cell_type": "code",
   "execution_count": null,
   "id": "81404bad-7ea3-4037-96fd-10b3ca4dd3b1",
   "metadata": {},
   "outputs": [],
   "source": [
    "print(type((9.8, 3.14, 2.7))) "
   ]
  },
  {
   "cell_type": "code",
   "execution_count": null,
   "id": "2d5ce260-34cb-40d9-af9f-8fbab7fdb460",
   "metadata": {},
   "outputs": [],
   "source": [
    "print(type(3 == 3))"
   ]
  },
  {
   "cell_type": "code",
   "execution_count": null,
   "id": "e866f81c-82b6-405e-860e-e637af40e299",
   "metadata": {},
   "outputs": [],
   "source": [
    "print(type(3 >= 3))"
   ]
  },
  {
   "cell_type": "code",
   "execution_count": null,
   "id": "106258c3-a931-4e2f-b2c1-565b3d1744ad",
   "metadata": {},
   "outputs": [],
   "source": [
    "print('Addition: ', 1 + 2)"
   ]
  },
  {
   "cell_type": "code",
   "execution_count": null,
   "id": "8848cb7e-f398-4a0f-a209-7ea47527cf51",
   "metadata": {},
   "outputs": [],
   "source": [
    "print('Subtraction: ', 2 - 1)"
   ]
  },
  {
   "cell_type": "code",
   "execution_count": null,
   "id": "27b75c1a-4ce6-41ce-93ee-d6bf921193bc",
   "metadata": {},
   "outputs": [],
   "source": [
    "print('Multiplication: ', 2 * 3)"
   ]
  },
  {
   "cell_type": "code",
   "execution_count": null,
   "id": "7cd8b3c9-3ce5-4cc1-9771-96d514902bdf",
   "metadata": {},
   "outputs": [],
   "source": [
    "print ('Division: ', 4 / 2) "
   ]
  },
  {
   "cell_type": "code",
   "execution_count": null,
   "id": "8bc90a89-205a-4d4e-951f-14d22a6e1963",
   "metadata": {},
   "outputs": [],
   "source": [
    "print('Division: ', 6 / 2)"
   ]
  },
  {
   "cell_type": "code",
   "execution_count": null,
   "id": "5dc1b20c-b818-4be4-a4d9-d1cea440e905",
   "metadata": {},
   "outputs": [],
   "source": [
    "print('Division: ', 7 / 2)"
   ]
  },
  {
   "cell_type": "code",
   "execution_count": null,
   "id": "dc4223dc-3c03-4080-a25e-3ca321877cee",
   "metadata": {},
   "outputs": [],
   "source": [
    "print('Division without the remainder: ', 7 // 2)"
   ]
  },
  {
   "cell_type": "code",
   "execution_count": null,
   "id": "b2f8d793-9df1-4423-a397-6a9fee07374a",
   "metadata": {},
   "outputs": [],
   "source": [
    "print('Modulus: ', 3 % 2) "
   ]
  },
  {
   "cell_type": "code",
   "execution_count": null,
   "id": "1969193c-c110-4e53-9ff8-8cf2c1b3fe3b",
   "metadata": {},
   "outputs": [],
   "source": [
    "print ('Division without the remainder: ', 7 // 3)"
   ]
  },
  {
   "cell_type": "code",
   "execution_count": null,
   "id": "266188f1-d177-45a8-846a-b3cbd8ccc973",
   "metadata": {},
   "outputs": [],
   "source": [
    "print('Exponential: ', 3 ** 2) "
   ]
  },
  {
   "cell_type": "code",
   "execution_count": null,
   "id": "d89f788a-4ea9-4d9b-91f5-2e1adc6f9f0b",
   "metadata": {},
   "outputs": [],
   "source": [
    "print('Floating Number,PI', 3.14)"
   ]
  },
  {
   "cell_type": "code",
   "execution_count": null,
   "id": "88c73fb6-0dfb-48e5-b056-a34d1b529a00",
   "metadata": {},
   "outputs": [],
   "source": [
    "print('Floating Number, gravity', 9.81)"
   ]
  },
  {
   "cell_type": "code",
   "execution_count": null,
   "id": "284fb379-393e-46c8-ba23-f0913335470a",
   "metadata": {},
   "outputs": [],
   "source": [
    "print('Complex number: ', 1 + 1j)"
   ]
  },
  {
   "cell_type": "code",
   "execution_count": null,
   "id": "e3de3178-da3e-4894-918d-08b6a26b9b11",
   "metadata": {},
   "outputs": [],
   "source": [
    "print('Multiplying complex number: ',(1 + 1j) * (1-1j))"
   ]
  },
  {
   "cell_type": "code",
   "execution_count": null,
   "id": "5e2b5e8e-d197-4631-9b4c-7ce7dfa52ea1",
   "metadata": {},
   "outputs": [],
   "source": [
    "a = 3\n",
    "b = 2"
   ]
  },
  {
   "cell_type": "code",
   "execution_count": null,
   "id": "e1e31635-99a6-45c8-a42d-37491145c37e",
   "metadata": {},
   "outputs": [],
   "source": [
    "total = a + b"
   ]
  },
  {
   "cell_type": "code",
   "execution_count": null,
   "id": "aaf67dd5-3caf-4e5e-827b-2bd758f7648c",
   "metadata": {},
   "outputs": [],
   "source": [
    "total"
   ]
  },
  {
   "cell_type": "code",
   "execution_count": null,
   "id": "c88a244a-368c-47d4-b838-a685ba421207",
   "metadata": {},
   "outputs": [],
   "source": [
    "diff = a - b\n",
    "diff"
   ]
  },
  {
   "cell_type": "code",
   "execution_count": null,
   "id": "36c67841-b5f6-4651-93fa-8804c45f9b29",
   "metadata": {},
   "outputs": [],
   "source": [
    "product = a * b\n",
    "product\n"
   ]
  },
  {
   "cell_type": "code",
   "execution_count": null,
   "id": "bd31ff00-3d5e-485d-b76a-aeb3d51df612",
   "metadata": {},
   "outputs": [],
   "source": [
    "division = a / b\n",
    "division"
   ]
  },
  {
   "cell_type": "code",
   "execution_count": null,
   "id": "b1b18ed4-3e78-43ec-8724-14c9a9cc46ee",
   "metadata": {},
   "outputs": [],
   "source": [
    "remainder = a % b\n",
    "remainder"
   ]
  },
  {
   "cell_type": "code",
   "execution_count": null,
   "id": "37c6217d-593e-4bb3-a0a8-7c00ba13054c",
   "metadata": {},
   "outputs": [],
   "source": [
    "floor_division = a // b\n",
    "floor_division"
   ]
  },
  {
   "cell_type": "code",
   "execution_count": null,
   "id": "db35e6f1-d333-4f28-b982-0341b2be341c",
   "metadata": {},
   "outputs": [],
   "source": [
    "exponential = a ** b\n",
    "exponential"
   ]
  },
  {
   "cell_type": "code",
   "execution_count": null,
   "id": "e864bfab-d77f-4c27-b943-3910bfc7b9d4",
   "metadata": {},
   "outputs": [],
   "source": [
    "print(total) # if you don't label your print with some string, you never know from where is  the result is coming\n",
    "print('a + b = ', total)\n",
    "print('a - b = ', diff)\n",
    "print('a * b = ', product)\n",
    "print('a / b = ', division)\n",
    "print('a % b = ', remainder)\n",
    "print('a // b = ', floor_division)\n",
    "print('a ** b = ', exponential)"
   ]
  },
  {
   "cell_type": "code",
   "execution_count": null,
   "id": "8efdcf89-6b4d-403c-b652-7af1eb2e839a",
   "metadata": {},
   "outputs": [],
   "source": [
    "num_one = 3\n",
    "num_two = 4"
   ]
  },
  {
   "cell_type": "code",
   "execution_count": null,
   "id": "892524e7-8c7c-4222-9db9-bd29eff234b1",
   "metadata": {},
   "outputs": [],
   "source": [
    "total = num_one + num_two\n",
    "diff = num_two - num_one\n",
    "product = num_one * num_two\n",
    "div = num_two / num_two\n",
    "remainder = num_two % num_one"
   ]
  },
  {
   "cell_type": "code",
   "execution_count": null,
   "id": "abb29cca-26b7-4db3-ac06-853bf59cddd2",
   "metadata": {},
   "outputs": [],
   "source": [
    "print('total: ', total)\n",
    "print('difference: ', diff)\n",
    "print('product: ', product)\n",
    "print('division: ', div)\n",
    "print('remainder: ', remainder)"
   ]
  },
  {
   "cell_type": "code",
   "execution_count": null,
   "id": "d8579e5c-9369-4243-b3e9-e5b7ab2a4b51",
   "metadata": {},
   "outputs": [],
   "source": [
    "radius = 10 \n",
    "area_of_circle = 3.14 * radius ** 2         \n",
    "print('Area of a circle:', area_of_circle)\n"
   ]
  },
  {
   "cell_type": "code",
   "execution_count": null,
   "id": "68fc12fc-2683-4305-8cba-741ce7e871b3",
   "metadata": {},
   "outputs": [],
   "source": [
    "length = 10\n",
    "width = 20\n",
    "area_of_rectangle = length * width\n",
    "print('Area of rectangle:', area_of_rectangle)\n"
   ]
  },
  {
   "cell_type": "code",
   "execution_count": null,
   "id": "91ec720b-b8e0-4fa3-9977-92f0a3e5f84b",
   "metadata": {},
   "outputs": [],
   "source": [
    "mass = 75\n",
    "gravity = 9.81\n",
    "weight = mass * gravity\n",
    "print(weight, 'N')"
   ]
  },
  {
   "cell_type": "code",
   "execution_count": null,
   "id": "91b6b09e-cc0f-4913-8b8d-794f467ed273",
   "metadata": {},
   "outputs": [],
   "source": [
    "print(3 > 2)"
   ]
  },
  {
   "cell_type": "code",
   "execution_count": null,
   "id": "f22ed523-2bf2-4164-9590-f3fc4b67663d",
   "metadata": {},
   "outputs": [],
   "source": [
    "print(3 >= 2)"
   ]
  },
  {
   "cell_type": "code",
   "execution_count": null,
   "id": "d54f3d0d-80a0-4fec-8f41-bb9e614f0e8b",
   "metadata": {},
   "outputs": [],
   "source": [
    "print(3 < 2)"
   ]
  },
  {
   "cell_type": "code",
   "execution_count": null,
   "id": "592c3dae-0ee2-41a7-a560-fc2595b89e37",
   "metadata": {},
   "outputs": [],
   "source": [
    "print(2 < 3)"
   ]
  },
  {
   "cell_type": "code",
   "execution_count": null,
   "id": "a2638f3a-d02e-43cd-9c35-7da28e36de35",
   "metadata": {},
   "outputs": [],
   "source": [
    "print(2 <= 3)"
   ]
  },
  {
   "cell_type": "code",
   "execution_count": null,
   "id": "cebc40f3-ffff-4891-9c62-3738283321b1",
   "metadata": {},
   "outputs": [],
   "source": [
    "print(3 == 2)"
   ]
  },
  {
   "cell_type": "code",
   "execution_count": null,
   "id": "bc517453-b0cb-4d9c-b1ac-efb0856d59c3",
   "metadata": {},
   "outputs": [],
   "source": [
    "print(3 != 2)"
   ]
  },
  {
   "cell_type": "code",
   "execution_count": null,
   "id": "cb6f00fa-53c0-4bff-8de1-753ef0cfb551",
   "metadata": {},
   "outputs": [],
   "source": [
    "print(len('mango') == len('avocado'))"
   ]
  },
  {
   "cell_type": "code",
   "execution_count": null,
   "id": "dbc726db-0949-4d15-8c32-e6532f35af12",
   "metadata": {},
   "outputs": [],
   "source": [
    "print(len('mango') != len('avocado'))"
   ]
  },
  {
   "cell_type": "code",
   "execution_count": null,
   "id": "2ef0391f-9a6a-4ea0-b0aa-d26cef43f783",
   "metadata": {},
   "outputs": [],
   "source": [
    "print(len('mango') < len('avocado'))"
   ]
  },
  {
   "cell_type": "code",
   "execution_count": null,
   "id": "b251c801-8f87-4bbb-a30d-e12ec9974b78",
   "metadata": {},
   "outputs": [],
   "source": [
    "print(len('milk') != len('meat'))"
   ]
  },
  {
   "cell_type": "code",
   "execution_count": null,
   "id": "46b768bd-8ebc-49b6-8a11-71f946d3cca8",
   "metadata": {},
   "outputs": [],
   "source": [
    "print(len('milk') == len('meat'))"
   ]
  },
  {
   "cell_type": "code",
   "execution_count": null,
   "id": "e69c4969-3d84-40e1-bfe2-76211f1daef6",
   "metadata": {},
   "outputs": [],
   "source": [
    "print(len('tomato') == len('potato'))"
   ]
  },
  {
   "cell_type": "code",
   "execution_count": null,
   "id": "a4d8ba8d-6816-4370-a235-f4f722edc16d",
   "metadata": {},
   "outputs": [],
   "source": [
    "print(len('python') > len('dragon'))"
   ]
  },
  {
   "cell_type": "code",
   "execution_count": null,
   "id": "84a9eb90-1275-4543-8a83-ac0ea1765f07",
   "metadata": {},
   "outputs": [],
   "source": [
    "print('True == True: ', True == True)"
   ]
  },
  {
   "cell_type": "code",
   "execution_count": null,
   "id": "23e07d9b-03d3-4b6a-8d56-0401330a3a4b",
   "metadata": {},
   "outputs": [],
   "source": [
    "print('True == False: ', True == False)"
   ]
  },
  {
   "cell_type": "code",
   "execution_count": null,
   "id": "63b1a938-9604-4c37-b18b-eb9cf068724e",
   "metadata": {},
   "outputs": [],
   "source": [
    "print('False == False:', False == False)"
   ]
  },
  {
   "cell_type": "code",
   "execution_count": null,
   "id": "145481d6-3f7e-4202-b50d-b2fedf480a47",
   "metadata": {},
   "outputs": [],
   "source": [
    "print('True and True: ', True and True)"
   ]
  },
  {
   "cell_type": "code",
   "execution_count": null,
   "id": "47d2e43c-5864-44e1-b646-c2588d2b1b6c",
   "metadata": {},
   "outputs": [],
   "source": [
    "print('True or False:', True or False)"
   ]
  },
  {
   "cell_type": "code",
   "execution_count": null,
   "id": "db3fb41b-d3f7-4be1-85dd-5bdd8faad552",
   "metadata": {},
   "outputs": [],
   "source": [
    "print('1 is 1', 1 is 1) "
   ]
  },
  {
   "cell_type": "code",
   "execution_count": null,
   "id": "3d50800e-1dfb-451c-8762-f2431923b746",
   "metadata": {},
   "outputs": [],
   "source": [
    "print('1 is not 2', 1 is not 2)"
   ]
  },
  {
   "cell_type": "code",
   "execution_count": null,
   "id": "ab452558-9b80-486c-9ed3-1cb1eaa8850d",
   "metadata": {},
   "outputs": [],
   "source": [
    "print('A in Asabeneh', 'A' in 'Asabeneh')"
   ]
  },
  {
   "cell_type": "code",
   "execution_count": null,
   "id": "639de473-bb95-4620-a4c6-0c68212d9625",
   "metadata": {},
   "outputs": [],
   "source": [
    "print('B in Asabeneh', 'B' in 'Asabeneh')"
   ]
  },
  {
   "cell_type": "code",
   "execution_count": null,
   "id": "ef15887f-466c-4e37-934f-b0cb5365a8ba",
   "metadata": {},
   "outputs": [],
   "source": [
    "print('coding' in 'coding for all')"
   ]
  },
  {
   "cell_type": "code",
   "execution_count": null,
   "id": "142e67a8-3481-4d36-8037-6f18609f776e",
   "metadata": {},
   "outputs": [],
   "source": [
    "print('a in an:', 'a' in 'an')"
   ]
  },
  {
   "cell_type": "code",
   "execution_count": null,
   "id": "53f33a87-1367-4f99-9d37-5c803e80cde0",
   "metadata": {},
   "outputs": [],
   "source": [
    "print('4 is 2 ** 2:', 4 is 2 ** 2)"
   ]
  },
  {
   "cell_type": "code",
   "execution_count": null,
   "id": "f29fa070-82be-4cf9-8a47-3315793b1126",
   "metadata": {},
   "outputs": [],
   "source": [
    "print(3 > 2 and 4 > 3)"
   ]
  },
  {
   "cell_type": "code",
   "execution_count": null,
   "id": "97f494f2-4136-4370-b3a4-f371e689801b",
   "metadata": {},
   "outputs": [],
   "source": [
    "print(3 > 2 and 4 < 3)"
   ]
  },
  {
   "cell_type": "code",
   "execution_count": null,
   "id": "5e95e69f-e72e-46f7-b8c6-5fa5e0d63822",
   "metadata": {},
   "outputs": [],
   "source": [
    "print(3 < 2 and 4 < 3)"
   ]
  },
  {
   "cell_type": "code",
   "execution_count": null,
   "id": "6a9ba16e-acf2-4c00-b03f-7d53f587ccd8",
   "metadata": {},
   "outputs": [],
   "source": [
    "print(3 > 2 or 4 > 3)"
   ]
  },
  {
   "cell_type": "code",
   "execution_count": null,
   "id": "25c6a198-06c5-44ef-8444-c302333e90b5",
   "metadata": {},
   "outputs": [],
   "source": [
    "print(3 > 2 or 4 < 3)"
   ]
  },
  {
   "cell_type": "code",
   "execution_count": null,
   "id": "9f90503b-2e03-4455-9256-c48d68e1f209",
   "metadata": {},
   "outputs": [],
   "source": [
    "print(3 < 2 or 4 < 3)"
   ]
  },
  {
   "cell_type": "code",
   "execution_count": null,
   "id": "12e2ea59-a268-45d8-84d2-9b33979907f4",
   "metadata": {},
   "outputs": [],
   "source": [
    "print(not 3 > 2)"
   ]
  },
  {
   "cell_type": "code",
   "execution_count": null,
   "id": "25bdfd81-679b-4614-9f1f-040880925c7a",
   "metadata": {},
   "outputs": [],
   "source": [
    "print(not True)"
   ]
  },
  {
   "cell_type": "code",
   "execution_count": null,
   "id": "1921490d-3a1c-4213-9386-3e86b08d1e6e",
   "metadata": {},
   "outputs": [],
   "source": [
    "print(not False)"
   ]
  },
  {
   "cell_type": "code",
   "execution_count": null,
   "id": "ca7f54b1-2374-469a-9750-ef9fecbd58f2",
   "metadata": {},
   "outputs": [],
   "source": [
    "print(not not True)"
   ]
  },
  {
   "cell_type": "code",
   "execution_count": null,
   "id": "22a1d318-3bd7-492c-87a4-1c72ff9ce8c5",
   "metadata": {},
   "outputs": [],
   "source": [
    "print(not not False)"
   ]
  },
  {
   "cell_type": "markdown",
   "id": "28b5a2b3-cf1c-4a9e-a903-927b56857121",
   "metadata": {},
   "source": [
    "# Variables in Python\n"
   ]
  },
  {
   "cell_type": "code",
   "execution_count": null,
   "id": "91b46d18-c699-4196-8d41-eb4a8f02cb1f",
   "metadata": {},
   "outputs": [],
   "source": [
    "first_name = 'PRAKASH'\n",
    "last_name = 'SENAPATI'\n",
    "country = 'HYD'\n",
    "city = 'TELENGANA'\n",
    "age = 40087\n",
    "is_married = True\n",
    "skills = ['HTML', 'CSS', 'JS', 'React', 'Python']\n",
    "person_info = {\n",
    "    'firstname':'Asabeneh', \n",
    "    'lastname':'Yetayeh', \n",
    "    'country':'Finland',\n",
    "    'city':'Helsinki'\n",
    "    }"
   ]
  },
  {
   "cell_type": "code",
   "execution_count": null,
   "id": "f8e9e007-96ff-449b-bcba-b0672be24169",
   "metadata": {},
   "outputs": [],
   "source": [
    "print('First name:', first_name)\n"
   ]
  },
  {
   "cell_type": "code",
   "execution_count": null,
   "id": "b880df12-dbb5-4792-9897-c7526a9aba39",
   "metadata": {},
   "outputs": [],
   "source": [
    "print('First name length:', len(first_name))\n"
   ]
  },
  {
   "cell_type": "code",
   "execution_count": null,
   "id": "aef84a20-fe95-42b2-bf1d-5b06071962fe",
   "metadata": {},
   "outputs": [],
   "source": [
    "print('Last name: ', last_name)\n"
   ]
  },
  {
   "cell_type": "code",
   "execution_count": null,
   "id": "00867c5f-dbc4-4649-a5ca-0725d686dc99",
   "metadata": {},
   "outputs": [],
   "source": [
    "print('Last name length: ', len(last_name))\n"
   ]
  },
  {
   "cell_type": "code",
   "execution_count": null,
   "id": "ec77bf2b-cbed-4fe5-8473-99378587814f",
   "metadata": {},
   "outputs": [],
   "source": [
    "print('Country: ', country)\n"
   ]
  },
  {
   "cell_type": "code",
   "execution_count": null,
   "id": "f188e100-13fb-4854-87fb-d9d3f8ec6b83",
   "metadata": {},
   "outputs": [],
   "source": [
    "print('City: ', city)\n"
   ]
  },
  {
   "cell_type": "code",
   "execution_count": null,
   "id": "61cd2307-4471-44b5-a13a-17d987b0b3ab",
   "metadata": {},
   "outputs": [],
   "source": [
    "print('Age: ', age)\n"
   ]
  },
  {
   "cell_type": "code",
   "execution_count": null,
   "id": "8b03c39b-6799-461b-b97b-b2ccd9894577",
   "metadata": {},
   "outputs": [],
   "source": [
    "print('Married: ', is_married)\n"
   ]
  },
  {
   "cell_type": "code",
   "execution_count": null,
   "id": "8770529f-f0f8-44ca-965e-233881927724",
   "metadata": {},
   "outputs": [],
   "source": [
    "print('Skills: ', skills)\n"
   ]
  },
  {
   "cell_type": "code",
   "execution_count": null,
   "id": "1923bceb-806b-4926-811f-404bfb89e60a",
   "metadata": {},
   "outputs": [],
   "source": [
    "print('Person information: ', person_info)\n"
   ]
  },
  {
   "cell_type": "code",
   "execution_count": null,
   "id": "cc1423df-d26c-4881-9a22-e1cbe9042e5a",
   "metadata": {},
   "outputs": [],
   "source": [
    "first_name, last_name, country, age, is_married = 'Asabeneh', 'Yetayeh', 'Helsink', 250, True\n"
   ]
  },
  {
   "cell_type": "markdown",
   "id": "53466129-2a5d-4d8f-9082-da83afcadbf9",
   "metadata": {},
   "source": [
    "**Complex Number**"
   ]
  },
  {
   "cell_type": "code",
   "execution_count": 109,
   "id": "b30816f9-70d4-472d-8c43-5aafa7e70aad",
   "metadata": {},
   "outputs": [
    {
     "name": "stdout",
     "output_type": "stream",
     "text": [
      "3.0\n",
      "4.0\n"
     ]
    }
   ],
   "source": [
    "z=3+4j\n",
    "print(z.real)\n",
    "print(z.imag)"
   ]
  },
  {
   "cell_type": "code",
   "execution_count": 110,
   "id": "33e60a2d-1702-419d-8d0a-c59d1cac0b49",
   "metadata": {},
   "outputs": [
    {
     "name": "stdout",
     "output_type": "stream",
     "text": [
      "(4+6j)\n"
     ]
    }
   ],
   "source": [
    "a=3+4j\n",
    "b=1+2j\n",
    "print(a+b)"
   ]
  },
  {
   "cell_type": "code",
   "execution_count": 111,
   "id": "19a9cd19-9c41-46c8-adc8-86f8a697a51c",
   "metadata": {},
   "outputs": [
    {
     "name": "stdout",
     "output_type": "stream",
     "text": [
      "(4+6j)\n",
      "(2+2j)\n",
      "(-5+10j)\n",
      "(2.2-0.4j)\n"
     ]
    }
   ],
   "source": [
    "print(a+b)\n",
    "print(a-b)\n",
    "print(a*b)\n",
    "print(a/b)"
   ]
  },
  {
   "cell_type": "code",
   "execution_count": 112,
   "id": "b638aa80-fe8a-41ff-96a4-f55b2270cdaa",
   "metadata": {},
   "outputs": [
    {
     "name": "stdout",
     "output_type": "stream",
     "text": [
      "(-5+10j)\n"
     ]
    }
   ],
   "source": [
    "print(a*b)"
   ]
  },
  {
   "cell_type": "code",
   "execution_count": 113,
   "id": "59585987-e8f2-4e1b-9a3e-f7ce8e5e3de1",
   "metadata": {},
   "outputs": [
    {
     "name": "stdout",
     "output_type": "stream",
     "text": [
      "(3+4j)\n",
      "(1+2j)\n",
      "(-5+10j)\n"
     ]
    }
   ],
   "source": [
    "print(a)\n",
    "print(b)\n",
    "print(a*b)"
   ]
  },
  {
   "cell_type": "code",
   "execution_count": null,
   "id": "1e105af2-bc25-4550-aa2b-a3d6c8445388",
   "metadata": {},
   "outputs": [],
   "source": []
  }
 ],
 "metadata": {
  "kernelspec": {
   "display_name": "Python 3 (ipykernel)",
   "language": "python",
   "name": "python3"
  },
  "language_info": {
   "codemirror_mode": {
    "name": "ipython",
    "version": 3
   },
   "file_extension": ".py",
   "mimetype": "text/x-python",
   "name": "python",
   "nbconvert_exporter": "python",
   "pygments_lexer": "ipython3",
   "version": "3.12.7"
  }
 },
 "nbformat": 4,
 "nbformat_minor": 5
}
