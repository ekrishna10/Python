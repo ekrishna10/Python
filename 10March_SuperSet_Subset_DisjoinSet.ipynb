{
 "cells": [
  {
   "cell_type": "markdown",
   "id": "3c8a4b2b-dc32-4012-8c3a-739aa3a1fba4",
   "metadata": {},
   "source": [
    "**10th March\n",
    "Superset\n",
    "subset\n",
    "disjoint**"
   ]
  },
  {
   "cell_type": "code",
   "execution_count": 1,
   "id": "8837fa7f-7e7d-4f22-905e-8170eb91ccd1",
   "metadata": {},
   "outputs": [],
   "source": [
    "s11={1,2,3,4,5,6,7,8,9}\n",
    "s12={3,4,5,6,7,8}\n",
    "s13={10,20,30,40}"
   ]
  },
  {
   "cell_type": "code",
   "execution_count": 3,
   "id": "19ad58d5-ab4d-4124-ab6a-ecd7fa4fe652",
   "metadata": {},
   "outputs": [
    {
     "data": {
      "text/plain": [
       "True"
      ]
     },
     "execution_count": 3,
     "metadata": {},
     "output_type": "execute_result"
    }
   ],
   "source": [
    "s12.issubset(s11)"
   ]
  },
  {
   "cell_type": "code",
   "execution_count": 4,
   "id": "09f4941d-f6ea-4c82-aa71-bfaef4a7e4b9",
   "metadata": {},
   "outputs": [
    {
     "data": {
      "text/plain": [
       "False"
      ]
     },
     "execution_count": 4,
     "metadata": {},
     "output_type": "execute_result"
    }
   ],
   "source": [
    "s11.issubset(s12)"
   ]
  },
  {
   "cell_type": "code",
   "execution_count": 5,
   "id": "176a39f9-b12d-45af-bb29-910a85a3eddb",
   "metadata": {},
   "outputs": [
    {
     "data": {
      "text/plain": [
       "True"
      ]
     },
     "execution_count": 5,
     "metadata": {},
     "output_type": "execute_result"
    }
   ],
   "source": [
    "s11.issuperset(s12)"
   ]
  },
  {
   "cell_type": "code",
   "execution_count": 6,
   "id": "19542e44-08d5-4331-b93e-d200f55d50f2",
   "metadata": {},
   "outputs": [
    {
     "data": {
      "text/plain": [
       "True"
      ]
     },
     "execution_count": 6,
     "metadata": {},
     "output_type": "execute_result"
    }
   ],
   "source": [
    "s13.isdisjoint(s12)"
   ]
  },
  {
   "cell_type": "code",
   "execution_count": 7,
   "id": "551cdfc8-616d-4645-8210-d2b4186b8a35",
   "metadata": {},
   "outputs": [
    {
     "data": {
      "text/plain": [
       "True"
      ]
     },
     "execution_count": 7,
     "metadata": {},
     "output_type": "execute_result"
    }
   ],
   "source": [
    "s13.isdisjoint(s11)"
   ]
  },
  {
   "cell_type": "code",
   "execution_count": 8,
   "id": "f70ff941-a76d-4115-ae7e-4bf1701dd127",
   "metadata": {},
   "outputs": [
    {
     "data": {
      "text/plain": [
       "{1, 2, 3, 4, 5, 6, 7, 8, 9}"
      ]
     },
     "execution_count": 8,
     "metadata": {},
     "output_type": "execute_result"
    }
   ],
   "source": [
    "s11"
   ]
  },
  {
   "cell_type": "code",
   "execution_count": 9,
   "id": "bd6b9347-87a6-417b-9829-5ab7089a04d0",
   "metadata": {},
   "outputs": [
    {
     "data": {
      "text/plain": [
       "{3, 4, 5, 6, 7, 8}"
      ]
     },
     "execution_count": 9,
     "metadata": {},
     "output_type": "execute_result"
    }
   ],
   "source": [
    "s12"
   ]
  },
  {
   "cell_type": "code",
   "execution_count": 10,
   "id": "77cea256-7293-48a7-8b82-eaf0bae191ad",
   "metadata": {},
   "outputs": [
    {
     "data": {
      "text/plain": [
       "{10, 20, 30, 40}"
      ]
     },
     "execution_count": 10,
     "metadata": {},
     "output_type": "execute_result"
    }
   ],
   "source": [
    "s13"
   ]
  },
  {
   "cell_type": "code",
   "execution_count": 11,
   "id": "1f54d243-dacd-46be-b5c2-81ef0543c06a",
   "metadata": {},
   "outputs": [
    {
     "name": "stdout",
     "output_type": "stream",
     "text": [
      "(0, 40)\n",
      "(1, 10)\n",
      "(2, 20)\n",
      "(3, 30)\n"
     ]
    }
   ],
   "source": [
    "for i in enumerate(s13):\n",
    "    print(i)"
   ]
  },
  {
   "cell_type": "code",
   "execution_count": 13,
   "id": "0f41942d-2831-45b5-95b3-21acf6b43165",
   "metadata": {},
   "outputs": [
    {
     "name": "stdout",
     "output_type": "stream",
     "text": [
      "40\n",
      "10\n",
      "20\n",
      "30\n"
     ]
    }
   ],
   "source": [
    "for i in s13:\n",
    "    print(i)"
   ]
  },
  {
   "cell_type": "markdown",
   "id": "0742c5aa-eeb4-4264-8068-aefdea3c4e62",
   "metadata": {},
   "source": [
    "**Dictionary**"
   ]
  },
  {
   "cell_type": "code",
   "execution_count": 14,
   "id": "98941c13-e924-4850-add7-92ffcc52344c",
   "metadata": {},
   "outputs": [
    {
     "data": {
      "text/plain": [
       "dict"
      ]
     },
     "execution_count": 14,
     "metadata": {},
     "output_type": "execute_result"
    }
   ],
   "source": [
    "d = {}\n",
    "type(d)"
   ]
  },
  {
   "cell_type": "code",
   "execution_count": 15,
   "id": "95597285-2158-4969-80e0-e9cfa7fb17f4",
   "metadata": {},
   "outputs": [],
   "source": [
    "d1= {1:'one',2:'three',3:'three'}"
   ]
  },
  {
   "cell_type": "code",
   "execution_count": 16,
   "id": "baee8788-5bb2-42f1-9779-8cc203b1f309",
   "metadata": {},
   "outputs": [
    {
     "data": {
      "text/plain": [
       "<function dict.keys>"
      ]
     },
     "execution_count": 16,
     "metadata": {},
     "output_type": "execute_result"
    }
   ],
   "source": [
    "d1.keys"
   ]
  },
  {
   "cell_type": "code",
   "execution_count": 17,
   "id": "27180141-75c6-45c8-9e6d-567bec88fba2",
   "metadata": {},
   "outputs": [
    {
     "data": {
      "text/plain": [
       "dict_values(['one', 'three', 'three'])"
      ]
     },
     "execution_count": 17,
     "metadata": {},
     "output_type": "execute_result"
    }
   ],
   "source": [
    "d1.values()"
   ]
  },
  {
   "cell_type": "code",
   "execution_count": 18,
   "id": "1bb35d1f-711d-4299-93e1-6cd04b192603",
   "metadata": {},
   "outputs": [
    {
     "data": {
      "text/plain": [
       "{1: 'one', 2: 'three', 3: 'three'}"
      ]
     },
     "execution_count": 18,
     "metadata": {},
     "output_type": "execute_result"
    }
   ],
   "source": [
    "d2 = d1.copy()\n",
    "d2"
   ]
  },
  {
   "cell_type": "code",
   "execution_count": 19,
   "id": "87397016-a87f-42a5-a622-7d3a1950805d",
   "metadata": {},
   "outputs": [
    {
     "data": {
      "text/plain": [
       "<function dict.items>"
      ]
     },
     "execution_count": 19,
     "metadata": {},
     "output_type": "execute_result"
    }
   ],
   "source": [
    "d1.items"
   ]
  },
  {
   "cell_type": "code",
   "execution_count": 20,
   "id": "25caf2ff-1f65-47e7-949f-e47f6f88975e",
   "metadata": {},
   "outputs": [
    {
     "data": {
      "text/plain": [
       "'one'"
      ]
     },
     "execution_count": 20,
     "metadata": {},
     "output_type": "execute_result"
    }
   ],
   "source": [
    "d1[1]"
   ]
  },
  {
   "cell_type": "code",
   "execution_count": 21,
   "id": "23cc1351-3bd5-4a2a-b8ee-32cdc99474e6",
   "metadata": {},
   "outputs": [
    {
     "data": {
      "text/plain": [
       "'three'"
      ]
     },
     "execution_count": 21,
     "metadata": {},
     "output_type": "execute_result"
    }
   ],
   "source": [
    "d1[2]"
   ]
  },
  {
   "cell_type": "code",
   "execution_count": 22,
   "id": "23a32dac-3080-4c58-9925-e92e4b15ec4e",
   "metadata": {},
   "outputs": [
    {
     "data": {
      "text/plain": [
       "'three'"
      ]
     },
     "execution_count": 22,
     "metadata": {},
     "output_type": "execute_result"
    }
   ],
   "source": [
    "d1[3]"
   ]
  },
  {
   "cell_type": "code",
   "execution_count": 23,
   "id": "08f6eaf1-0501-493c-b9dc-e95f1ef5194e",
   "metadata": {},
   "outputs": [],
   "source": [
    " r =range(1,10)"
   ]
  },
  {
   "cell_type": "code",
   "execution_count": 24,
   "id": "c1f3bf43-d4d9-4cf7-b283-d7647e7e2996",
   "metadata": {},
   "outputs": [
    {
     "data": {
      "text/plain": [
       "range(1, 10)"
      ]
     },
     "execution_count": 24,
     "metadata": {},
     "output_type": "execute_result"
    }
   ],
   "source": [
    "r\n",
    "\n"
   ]
  },
  {
   "cell_type": "code",
   "execution_count": 25,
   "id": "4f6ef163-0143-4721-803a-7f0d63116d83",
   "metadata": {},
   "outputs": [
    {
     "name": "stdout",
     "output_type": "stream",
     "text": [
      "range(1, 10)\n"
     ]
    }
   ],
   "source": [
    "print(r)"
   ]
  },
  {
   "cell_type": "code",
   "execution_count": null,
   "id": "a3032378-3934-4e50-8468-42cc644087dd",
   "metadata": {},
   "outputs": [],
   "source": []
  }
 ],
 "metadata": {
  "kernelspec": {
   "display_name": "Python 3 (ipykernel)",
   "language": "python",
   "name": "python3"
  },
  "language_info": {
   "codemirror_mode": {
    "name": "ipython",
    "version": 3
   },
   "file_extension": ".py",
   "mimetype": "text/x-python",
   "name": "python",
   "nbconvert_exporter": "python",
   "pygments_lexer": "ipython3",
   "version": "3.12.7"
  }
 },
 "nbformat": 4,
 "nbformat_minor": 5
}
