{
 "cells": [
  {
   "cell_type": "markdown",
   "id": "f8452594-2065-4279-b84f-8bbc7b547bef",
   "metadata": {},
   "source": [
    "Bitwise operator"
   ]
  },
  {
   "cell_type": "markdown",
   "id": "bac4dfee-7244-464f-b80c-97298de987aa",
   "metadata": {},
   "source": [
    "Six operators  - complement(~), AND(&), OR(|),XOR(^),LEFTSHIFT(<<),RIGHTSHIT(>>)"
   ]
  },
  {
   "cell_type": "code",
   "execution_count": 3,
   "id": "9f2b970e-3eb9-496a-9813-8de89956a746",
   "metadata": {},
   "outputs": [
    {
     "name": "stdout",
     "output_type": "stream",
     "text": [
      "0b1100\n"
     ]
    }
   ],
   "source": [
    "print(bin(12))"
   ]
  },
  {
   "cell_type": "code",
   "execution_count": 4,
   "id": "f63eaad5-8493-439d-8f99-25b71e8d5e7b",
   "metadata": {},
   "outputs": [
    {
     "name": "stdout",
     "output_type": "stream",
     "text": [
      "0b1101\n"
     ]
    }
   ],
   "source": [
    "print(bin(13))"
   ]
  },
  {
   "cell_type": "code",
   "execution_count": 5,
   "id": "0d83c9b7-1d46-487c-a71b-f47306006db8",
   "metadata": {},
   "outputs": [
    {
     "name": "stdout",
     "output_type": "stream",
     "text": [
      "-11\n"
     ]
    }
   ],
   "source": [
    "number = 10\n",
    "complement = ~number\n",
    "print(complement)"
   ]
  },
  {
   "cell_type": "code",
   "execution_count": 6,
   "id": "db7b0932-86e1-4fd2-9794-e7f7e66a520e",
   "metadata": {},
   "outputs": [
    {
     "data": {
      "text/plain": [
       "12"
      ]
     },
     "execution_count": 6,
     "metadata": {},
     "output_type": "execute_result"
    }
   ],
   "source": [
    "a =0b1100\n",
    "a"
   ]
  },
  {
   "cell_type": "code",
   "execution_count": 7,
   "id": "ec06af5f-9ba5-4480-b88a-e880e7dbd1f1",
   "metadata": {},
   "outputs": [
    {
     "data": {
      "text/plain": [
       "int"
      ]
     },
     "execution_count": 7,
     "metadata": {},
     "output_type": "execute_result"
    }
   ],
   "source": [
    "type(a)"
   ]
  },
  {
   "cell_type": "code",
   "execution_count": 8,
   "id": "b17434c2-9470-4e46-a61e-381f1ae5126f",
   "metadata": {},
   "outputs": [
    {
     "data": {
      "text/plain": [
       "12"
      ]
     },
     "execution_count": 8,
     "metadata": {},
     "output_type": "execute_result"
    }
   ],
   "source": [
    "12\n"
   ]
  },
  {
   "cell_type": "code",
   "execution_count": 9,
   "id": "75cf2360-1d95-44ce-8b63-ea2560442428",
   "metadata": {},
   "outputs": [
    {
     "data": {
      "text/plain": [
       "-13"
      ]
     },
     "execution_count": 9,
     "metadata": {},
     "output_type": "execute_result"
    }
   ],
   "source": [
    "~12"
   ]
  },
  {
   "cell_type": "code",
   "execution_count": 10,
   "id": "d747dd53-4f67-424e-b547-96dd323bfe99",
   "metadata": {},
   "outputs": [
    {
     "data": {
      "text/plain": [
       "45"
      ]
     },
     "execution_count": 10,
     "metadata": {},
     "output_type": "execute_result"
    }
   ],
   "source": [
    "45"
   ]
  },
  {
   "cell_type": "code",
   "execution_count": 11,
   "id": "2e1f175a-f2a7-492c-ac7a-c14617c43c4e",
   "metadata": {},
   "outputs": [
    {
     "data": {
      "text/plain": [
       "-46"
      ]
     },
     "execution_count": 11,
     "metadata": {},
     "output_type": "execute_result"
    }
   ],
   "source": [
    "~45\n"
   ]
  },
  {
   "cell_type": "markdown",
   "id": "e2b73a65-6f02-4055-8c74-ab4b1c54dbfe",
   "metadata": {},
   "source": [
    "Bitwise Operators"
   ]
  },
  {
   "cell_type": "code",
   "execution_count": 12,
   "id": "31c3b087-7bcb-465c-b9f4-c814f71d9baa",
   "metadata": {},
   "outputs": [
    {
     "name": "stdout",
     "output_type": "stream",
     "text": [
      "0b1100\n",
      "0b1101\n"
     ]
    }
   ],
   "source": [
    "print(bin(12))\n",
    "print(bin(13))"
   ]
  },
  {
   "cell_type": "code",
   "execution_count": 13,
   "id": "32b4998c-193c-4b43-9a6e-a8f51b730ffa",
   "metadata": {},
   "outputs": [
    {
     "data": {
      "text/plain": [
       "12"
      ]
     },
     "execution_count": 13,
     "metadata": {},
     "output_type": "execute_result"
    }
   ],
   "source": [
    "12&13"
   ]
  },
  {
   "cell_type": "code",
   "execution_count": 15,
   "id": "91621d18-3eb2-4c96-8443-9f12d0bb0880",
   "metadata": {},
   "outputs": [
    {
     "data": {
      "text/plain": [
       "1"
      ]
     },
     "execution_count": 15,
     "metadata": {},
     "output_type": "execute_result"
    }
   ],
   "source": [
    "1&1"
   ]
  },
  {
   "cell_type": "code",
   "execution_count": 16,
   "id": "8cff5d14-ac3c-4b88-8d57-ea53debed27f",
   "metadata": {},
   "outputs": [
    {
     "data": {
      "text/plain": [
       "0"
      ]
     },
     "execution_count": 16,
     "metadata": {},
     "output_type": "execute_result"
    }
   ],
   "source": [
    "1&0"
   ]
  },
  {
   "cell_type": "code",
   "execution_count": 17,
   "id": "6d49b012-39ea-4243-aca6-a7e814b7634e",
   "metadata": {},
   "outputs": [
    {
     "data": {
      "text/plain": [
       "0"
      ]
     },
     "execution_count": 17,
     "metadata": {},
     "output_type": "execute_result"
    }
   ],
   "source": [
    "0&1"
   ]
  },
  {
   "cell_type": "code",
   "execution_count": 18,
   "id": "b46c559d-bfd1-4fa9-ae77-1bbfdef13b23",
   "metadata": {},
   "outputs": [
    {
     "data": {
      "text/plain": [
       "0"
      ]
     },
     "execution_count": 18,
     "metadata": {},
     "output_type": "execute_result"
    }
   ],
   "source": [
    "0&0"
   ]
  },
  {
   "cell_type": "code",
   "execution_count": 21,
   "id": "60d7d133-033b-4829-adba-9dbccf40e231",
   "metadata": {},
   "outputs": [
    {
     "name": "stdout",
     "output_type": "stream",
     "text": [
      "0b100011\n",
      "0b101000\n"
     ]
    }
   ],
   "source": [
    "print(bin(35))\n",
    "print(bin(40))"
   ]
  },
  {
   "cell_type": "code",
   "execution_count": 22,
   "id": "6af6e855-428a-4d3c-9dbe-4d6ac6b0f60a",
   "metadata": {},
   "outputs": [
    {
     "data": {
      "text/plain": [
       "43"
      ]
     },
     "execution_count": 22,
     "metadata": {},
     "output_type": "execute_result"
    }
   ],
   "source": [
    "35|40"
   ]
  },
  {
   "cell_type": "code",
   "execution_count": 23,
   "id": "1c83dc6c-29e6-4a8c-8ae2-53b6bee6fe04",
   "metadata": {},
   "outputs": [
    {
     "data": {
      "text/plain": [
       "32"
      ]
     },
     "execution_count": 23,
     "metadata": {},
     "output_type": "execute_result"
    }
   ],
   "source": [
    "35&40"
   ]
  },
  {
   "cell_type": "markdown",
   "id": "07ef0802-cd16-44b2-a923-322d75d54932",
   "metadata": {},
   "source": [
    "XOR ^ -> both numbers are different then 1 eles 0"
   ]
  },
  {
   "cell_type": "code",
   "execution_count": 24,
   "id": "c1cac885-538f-465d-b955-b6a4192b1dc4",
   "metadata": {},
   "outputs": [
    {
     "data": {
      "text/plain": [
       "1"
      ]
     },
     "execution_count": 24,
     "metadata": {},
     "output_type": "execute_result"
    }
   ],
   "source": [
    "12^13"
   ]
  },
  {
   "cell_type": "code",
   "execution_count": 25,
   "id": "5ca9fb00-58e2-4114-bed1-fdac2e42d1a1",
   "metadata": {},
   "outputs": [
    {
     "data": {
      "text/plain": [
       "11"
      ]
     },
     "execution_count": 25,
     "metadata": {},
     "output_type": "execute_result"
    }
   ],
   "source": [
    "35^40"
   ]
  },
  {
   "cell_type": "code",
   "execution_count": 26,
   "id": "ace7ed6d-0327-429e-b78e-cd76fd228418",
   "metadata": {},
   "outputs": [
    {
     "data": {
      "text/plain": [
       "7"
      ]
     },
     "execution_count": 26,
     "metadata": {},
     "output_type": "execute_result"
    }
   ],
   "source": [
    "25^30"
   ]
  },
  {
   "cell_type": "code",
   "execution_count": 27,
   "id": "93a28b60-64c3-4dba-a4b0-31beb79f82d3",
   "metadata": {},
   "outputs": [
    {
     "data": {
      "text/plain": [
       "'0b11001'"
      ]
     },
     "execution_count": 27,
     "metadata": {},
     "output_type": "execute_result"
    }
   ],
   "source": [
    "bin(25)"
   ]
  },
  {
   "cell_type": "code",
   "execution_count": 28,
   "id": "b361ad3d-7bcd-44a3-864a-97957b710c05",
   "metadata": {},
   "outputs": [
    {
     "data": {
      "text/plain": [
       "25"
      ]
     },
     "execution_count": 28,
     "metadata": {},
     "output_type": "execute_result"
    }
   ],
   "source": [
    "int(0b11001)"
   ]
  },
  {
   "cell_type": "markdown",
   "id": "0d50b959-4262-42fb-bf2a-087be680c3a5",
   "metadata": {},
   "source": [
    "<h1> Bitwise left operator by default you will take two zeros </h>"
   ]
  },
  {
   "cell_type": "code",
   "execution_count": 29,
   "id": "863afba1-9834-4d8e-b7d5-3d0d23d356ad",
   "metadata": {},
   "outputs": [
    {
     "data": {
      "text/plain": [
       "40"
      ]
     },
     "execution_count": 29,
     "metadata": {},
     "output_type": "execute_result"
    }
   ],
   "source": [
    "10<<2"
   ]
  },
  {
   "cell_type": "code",
   "execution_count": 30,
   "id": "6023a62b-30a4-4162-bf98-1b8a5a2f8937",
   "metadata": {},
   "outputs": [
    {
     "data": {
      "text/plain": [
       "140"
      ]
     },
     "execution_count": 30,
     "metadata": {},
     "output_type": "execute_result"
    }
   ],
   "source": [
    "35<<2"
   ]
  },
  {
   "cell_type": "code",
   "execution_count": 31,
   "id": "e6ff835e-81b9-492d-b5a4-5938bc815f1c",
   "metadata": {},
   "outputs": [
    {
     "data": {
      "text/plain": [
       "140"
      ]
     },
     "execution_count": 31,
     "metadata": {},
     "output_type": "execute_result"
    }
   ],
   "source": [
    "int(0b10001100)"
   ]
  },
  {
   "cell_type": "code",
   "execution_count": 32,
   "id": "7ca3fc27-11bd-4cb5-95d7-64eddcca7432",
   "metadata": {},
   "outputs": [
    {
     "data": {
      "text/plain": [
       "268"
      ]
     },
     "execution_count": 32,
     "metadata": {},
     "output_type": "execute_result"
    }
   ],
   "source": [
    "67<<2"
   ]
  },
  {
   "cell_type": "code",
   "execution_count": 33,
   "id": "11aea646-bf99-441b-a7ea-7d04c0962b65",
   "metadata": {},
   "outputs": [
    {
     "data": {
      "text/plain": [
       "'0b100001100'"
      ]
     },
     "execution_count": 33,
     "metadata": {},
     "output_type": "execute_result"
    }
   ],
   "source": [
    "bin(268)"
   ]
  },
  {
   "cell_type": "code",
   "execution_count": 34,
   "id": "a7dcfac2-473c-43a0-9187-6a6d82cef87f",
   "metadata": {},
   "outputs": [
    {
     "data": {
      "text/plain": [
       "268"
      ]
     },
     "execution_count": 34,
     "metadata": {},
     "output_type": "execute_result"
    }
   ],
   "source": [
    "int(0b100001100)"
   ]
  },
  {
   "cell_type": "markdown",
   "id": "28360182-54df-48e3-95de-2b742f07ef18",
   "metadata": {},
   "source": [
    "<h1>Bit wise right operator </h1>"
   ]
  },
  {
   "cell_type": "code",
   "execution_count": 36,
   "id": "4ce5fc67-b624-4bb1-95a1-fa1abc71da3e",
   "metadata": {},
   "outputs": [
    {
     "data": {
      "text/plain": [
       "2"
      ]
     },
     "execution_count": 36,
     "metadata": {},
     "output_type": "execute_result"
    }
   ],
   "source": [
    "10>>2"
   ]
  },
  {
   "cell_type": "code",
   "execution_count": 37,
   "id": "b2f1f63f-a7b8-4d0f-b780-5216bf590502",
   "metadata": {},
   "outputs": [
    {
     "data": {
      "text/plain": [
       "1"
      ]
     },
     "execution_count": 37,
     "metadata": {},
     "output_type": "execute_result"
    }
   ],
   "source": [
    "20>>4"
   ]
  },
  {
   "cell_type": "code",
   "execution_count": 38,
   "id": "bb597303-c524-4b82-8d18-113cee9190c3",
   "metadata": {},
   "outputs": [
    {
     "data": {
      "text/plain": [
       "'0b100011'"
      ]
     },
     "execution_count": 38,
     "metadata": {},
     "output_type": "execute_result"
    }
   ],
   "source": [
    "bin(35)"
   ]
  },
  {
   "cell_type": "code",
   "execution_count": 39,
   "id": "7ce3847e-874d-41b2-9fbf-e72cc8aa2423",
   "metadata": {},
   "outputs": [
    {
     "data": {
      "text/plain": [
       "8"
      ]
     },
     "execution_count": 39,
     "metadata": {},
     "output_type": "execute_result"
    }
   ],
   "source": [
    "35>>2"
   ]
  },
  {
   "cell_type": "markdown",
   "id": "aa491d74-5a25-444c-931b-796abad1e3a4",
   "metadata": {},
   "source": [
    "<h1>Math module</h1>"
   ]
  },
  {
   "cell_type": "code",
   "execution_count": 40,
   "id": "776bd804-c81f-4e49-9e29-f4197afb4cff",
   "metadata": {},
   "outputs": [],
   "source": [
    "import math"
   ]
  },
  {
   "cell_type": "code",
   "execution_count": 41,
   "id": "7b72e7a7-05a2-4898-af25-b9cde0df049b",
   "metadata": {},
   "outputs": [
    {
     "data": {
      "text/plain": [
       "5.0"
      ]
     },
     "execution_count": 41,
     "metadata": {},
     "output_type": "execute_result"
    }
   ],
   "source": [
    "x=math.sqrt(25)\n",
    "x"
   ]
  },
  {
   "cell_type": "code",
   "execution_count": 42,
   "id": "ea6b7b93-eaae-4a4f-84fe-32cf03180808",
   "metadata": {},
   "outputs": [
    {
     "name": "stdout",
     "output_type": "stream",
     "text": [
      "2\n"
     ]
    }
   ],
   "source": [
    "print(math.floor(2.9))"
   ]
  },
  {
   "cell_type": "code",
   "execution_count": 43,
   "id": "960ad2ca-46e5-4cef-bad0-2b9862aa92c2",
   "metadata": {},
   "outputs": [
    {
     "name": "stdout",
     "output_type": "stream",
     "text": [
      "3\n"
     ]
    }
   ],
   "source": [
    "print(math.ceil(2.9))"
   ]
  },
  {
   "cell_type": "code",
   "execution_count": 44,
   "id": "9084ac42-d2c6-477f-91b5-183fd1908e21",
   "metadata": {},
   "outputs": [
    {
     "name": "stdout",
     "output_type": "stream",
     "text": [
      "3\n"
     ]
    }
   ],
   "source": [
    "print(math.ceil(2.5))"
   ]
  },
  {
   "cell_type": "code",
   "execution_count": 45,
   "id": "337f0301-4b3a-4739-8f49-a24650168414",
   "metadata": {},
   "outputs": [
    {
     "name": "stdout",
     "output_type": "stream",
     "text": [
      "3\n"
     ]
    }
   ],
   "source": [
    "print(math.ceil(2.1))"
   ]
  },
  {
   "cell_type": "code",
   "execution_count": 46,
   "id": "e0b79ac9-da78-4a54-af82-b2cbaa84dffd",
   "metadata": {},
   "outputs": [
    {
     "name": "stdout",
     "output_type": "stream",
     "text": [
      "3.141592653589793\n"
     ]
    }
   ],
   "source": [
    "print(math.pi)"
   ]
  },
  {
   "cell_type": "code",
   "execution_count": 47,
   "id": "b4d12b8b-9b4d-4b27-a2eb-cbc43d066062",
   "metadata": {},
   "outputs": [
    {
     "name": "stdout",
     "output_type": "stream",
     "text": [
      "2.718281828459045\n"
     ]
    }
   ],
   "source": [
    "print(math.e)"
   ]
  },
  {
   "cell_type": "code",
   "execution_count": 48,
   "id": "08812f89-39a8-4fcf-b3c6-157a2bfb9c97",
   "metadata": {},
   "outputs": [],
   "source": [
    "import math as m"
   ]
  },
  {
   "cell_type": "code",
   "execution_count": 49,
   "id": "4ac6346c-7d1d-4bf4-b548-7c9fcb764418",
   "metadata": {},
   "outputs": [
    {
     "name": "stdout",
     "output_type": "stream",
     "text": [
      "5.0\n"
     ]
    }
   ],
   "source": [
    "print(m.sqrt(25))"
   ]
  },
  {
   "cell_type": "code",
   "execution_count": 50,
   "id": "c6291ab9-1cf5-45ff-ac31-f96aca929de5",
   "metadata": {},
   "outputs": [
    {
     "name": "stdout",
     "output_type": "stream",
     "text": [
      "27.0\n"
     ]
    }
   ],
   "source": [
    "print(m.pow(3,3))"
   ]
  },
  {
   "cell_type": "code",
   "execution_count": 52,
   "id": "ed13ab1e-3012-4887-92bf-6780c393c278",
   "metadata": {},
   "outputs": [
    {
     "data": {
      "text/plain": [
       "27"
      ]
     },
     "execution_count": 52,
     "metadata": {},
     "output_type": "execute_result"
    }
   ],
   "source": [
    "round(m.pow(3,3))"
   ]
  },
  {
   "cell_type": "markdown",
   "id": "a14d37df-cce5-4934-8db6-f1855179420c",
   "metadata": {},
   "source": [
    "<h1>Input function in python & Command line input</h1>"
   ]
  },
  {
   "cell_type": "code",
   "execution_count": 54,
   "id": "aebc4989-ca47-4232-9636-a18fa8d8eb26",
   "metadata": {},
   "outputs": [
    {
     "name": "stdin",
     "output_type": "stream",
     "text": [
      " 2,3\n",
      " \n"
     ]
    },
    {
     "name": "stdout",
     "output_type": "stream",
     "text": [
      "2,3\n"
     ]
    }
   ],
   "source": [
    "x=input()\n",
    "y=input()\n",
    "z=x+y\n",
    "print(z)"
   ]
  },
  {
   "cell_type": "code",
   "execution_count": 55,
   "id": "972ffdeb-29f8-4888-bff9-995d1121459b",
   "metadata": {},
   "outputs": [
    {
     "name": "stdin",
     "output_type": "stream",
     "text": [
      "Enter the 1st number 5\n",
      "Enter the second number 3\n"
     ]
    },
    {
     "name": "stdout",
     "output_type": "stream",
     "text": [
      "8\n"
     ]
    }
   ],
   "source": [
    "x1=input('Enter the 1st number')\n",
    "a1=int(x1)\n",
    "y1=input('Enter the second number')\n",
    "b1=int(y1)\n",
    "z1=a1+b1\n",
    "print(z1)\n"
   ]
  },
  {
   "cell_type": "code",
   "execution_count": null,
   "id": "88e74aa2-6fbd-4dec-ac34-3eb4b310228e",
   "metadata": {},
   "outputs": [],
   "source": []
  }
 ],
 "metadata": {
  "kernelspec": {
   "display_name": "Python 3 (ipykernel)",
   "language": "python",
   "name": "python3"
  },
  "language_info": {
   "codemirror_mode": {
    "name": "ipython",
    "version": 3
   },
   "file_extension": ".py",
   "mimetype": "text/x-python",
   "name": "python",
   "nbconvert_exporter": "python",
   "pygments_lexer": "ipython3",
   "version": "3.12.7"
  }
 },
 "nbformat": 4,
 "nbformat_minor": 5
}
